{
 "cells": [
  {
   "cell_type": "code",
   "execution_count": null,
   "id": "right-messaging",
   "metadata": {},
   "outputs": [],
   "source": [
    "import cv2 as cv\n",
    "\n",
    "pt = (0,0)\n",
    "clicked = False\n",
    "\n",
    "def draw_circle(event,x,y,flags,param):\n",
    "    global pt,clicked\n",
    "    \n",
    "    if event == cv.EVENT_LBUTTONDOWN:\n",
    "        if clicked == True:\n",
    "            pt = (0,0)\n",
    "            clicked = False\n",
    "            \n",
    "        if clicked == False:\n",
    "            pt = (x,y)\n",
    "            clicked = True\n",
    "            \n",
    "        \n",
    "\n",
    "            \n",
    "cap = cv.VideoCapture(0)\n",
    "\n",
    "cv.namedWindow('Test')\n",
    "cv.setMouseCallback('Test',draw_circle)\n",
    "\n",
    "while True:\n",
    "    ret,frame = cap.read()\n",
    "    \n",
    "    if clicked:\n",
    "        cv.circle(frame,center=pt,radius=50,color=(255,0,0),thickness=5)\n",
    "        \n",
    "    cv.imshow('Test',frame)\n",
    "    \n",
    "    if cv.waitKey(1) & 0xFF == ord('q'):\n",
    "        break\n",
    "\n",
    "cap.release()\n",
    "cv.destroyAllWindows()\n",
    "    "
   ]
  },
  {
   "cell_type": "code",
   "execution_count": null,
   "id": "understood-labor",
   "metadata": {},
   "outputs": [],
   "source": []
  },
  {
   "cell_type": "code",
   "execution_count": null,
   "id": "attended-apartment",
   "metadata": {},
   "outputs": [],
   "source": []
  },
  {
   "cell_type": "code",
   "execution_count": null,
   "id": "incorporated-success",
   "metadata": {},
   "outputs": [],
   "source": []
  },
  {
   "cell_type": "code",
   "execution_count": null,
   "id": "bottom-thickness",
   "metadata": {},
   "outputs": [],
   "source": []
  }
 ],
 "metadata": {
  "kernelspec": {
   "display_name": "Python 3",
   "language": "python",
   "name": "python3"
  },
  "language_info": {
   "codemirror_mode": {
    "name": "ipython",
    "version": 3
   },
   "file_extension": ".py",
   "mimetype": "text/x-python",
   "name": "python",
   "nbconvert_exporter": "python",
   "pygments_lexer": "ipython3",
   "version": "3.6.6"
  }
 },
 "nbformat": 4,
 "nbformat_minor": 5
}
